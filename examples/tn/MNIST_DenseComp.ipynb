{
  "nbformat": 4,
  "nbformat_minor": 0,
  "metadata": {
    "colab": {
      "name": "MNIST DenseComp.ipynb",
      "provenance": []
    },
    "kernelspec": {
      "name": "python3",
      "display_name": "Python 3"
    },
    "language_info": {
      "name": "python"
    },
    "accelerator": "GPU"
  },
  "cells": [
    {
      "cell_type": "code",
      "metadata": {
        "colab": {
          "base_uri": "https://localhost:8080/"
        },
        "id": "Y8vZTaBaF-IM",
        "outputId": "c8d53335-2584-45ab-d5a5-623a230b2f3c"
      },
      "source": [
        "!pip install tensornetwork -q"
      ],
      "execution_count": 1,
      "outputs": [
        {
          "output_type": "stream",
          "text": [
            "\u001b[?25l\r\u001b[K     |█                               | 10kB 28.0MB/s eta 0:00:01\r\u001b[K     |█▉                              | 20kB 34.1MB/s eta 0:00:01\r\u001b[K     |██▊                             | 30kB 21.8MB/s eta 0:00:01\r\u001b[K     |███▋                            | 40kB 25.1MB/s eta 0:00:01\r\u001b[K     |████▌                           | 51kB 25.5MB/s eta 0:00:01\r\u001b[K     |█████▌                          | 61kB 28.1MB/s eta 0:00:01\r\u001b[K     |██████▍                         | 71kB 18.0MB/s eta 0:00:01\r\u001b[K     |███████▎                        | 81kB 19.0MB/s eta 0:00:01\r\u001b[K     |████████▏                       | 92kB 18.1MB/s eta 0:00:01\r\u001b[K     |█████████                       | 102kB 18.1MB/s eta 0:00:01\r\u001b[K     |██████████                      | 112kB 18.1MB/s eta 0:00:01\r\u001b[K     |███████████                     | 122kB 18.1MB/s eta 0:00:01\r\u001b[K     |███████████▉                    | 133kB 18.1MB/s eta 0:00:01\r\u001b[K     |████████████▊                   | 143kB 18.1MB/s eta 0:00:01\r\u001b[K     |█████████████▋                  | 153kB 18.1MB/s eta 0:00:01\r\u001b[K     |██████████████▌                 | 163kB 18.1MB/s eta 0:00:01\r\u001b[K     |███████████████▌                | 174kB 18.1MB/s eta 0:00:01\r\u001b[K     |████████████████▍               | 184kB 18.1MB/s eta 0:00:01\r\u001b[K     |█████████████████▎              | 194kB 18.1MB/s eta 0:00:01\r\u001b[K     |██████████████████▏             | 204kB 18.1MB/s eta 0:00:01\r\u001b[K     |███████████████████             | 215kB 18.1MB/s eta 0:00:01\r\u001b[K     |████████████████████            | 225kB 18.1MB/s eta 0:00:01\r\u001b[K     |█████████████████████           | 235kB 18.1MB/s eta 0:00:01\r\u001b[K     |█████████████████████▉          | 245kB 18.1MB/s eta 0:00:01\r\u001b[K     |██████████████████████▊         | 256kB 18.1MB/s eta 0:00:01\r\u001b[K     |███████████████████████▋        | 266kB 18.1MB/s eta 0:00:01\r\u001b[K     |████████████████████████▌       | 276kB 18.1MB/s eta 0:00:01\r\u001b[K     |█████████████████████████▌      | 286kB 18.1MB/s eta 0:00:01\r\u001b[K     |██████████████████████████▍     | 296kB 18.1MB/s eta 0:00:01\r\u001b[K     |███████████████████████████▎    | 307kB 18.1MB/s eta 0:00:01\r\u001b[K     |████████████████████████████▏   | 317kB 18.1MB/s eta 0:00:01\r\u001b[K     |█████████████████████████████   | 327kB 18.1MB/s eta 0:00:01\r\u001b[K     |██████████████████████████████  | 337kB 18.1MB/s eta 0:00:01\r\u001b[K     |███████████████████████████████ | 348kB 18.1MB/s eta 0:00:01\r\u001b[K     |███████████████████████████████▉| 358kB 18.1MB/s eta 0:00:01\r\u001b[K     |████████████████████████████████| 368kB 18.1MB/s \n",
            "\u001b[?25h"
          ],
          "name": "stdout"
        }
      ]
    },
    {
      "cell_type": "code",
      "metadata": {
        "id": "W318ptMcGK47"
      },
      "source": [
        "%matplotlib inline\n",
        "import tensorflow as tf\n",
        "import tensornetwork as tn\n",
        "import numpy as np\n",
        "import pylab as pl\n",
        "from tensornetwork.tn_keras.dense import DenseDecomp\n",
        "from tensorflow.keras.models import Sequential\n",
        "from tensorflow.keras.layers import Dense\n",
        "import math"
      ],
      "execution_count": 41,
      "outputs": []
    },
    {
      "cell_type": "code",
      "metadata": {
        "id": "UklDt9khGMri"
      },
      "source": [
        "from sklearn.metrics import accuracy_score\n",
        "from sklearn.datasets import make_blobs, make_moons, make_circles\n",
        "from sklearn.preprocessing import MinMaxScaler, OneHotEncoder\n",
        "from sklearn.model_selection import train_test_split"
      ],
      "execution_count": 3,
      "outputs": []
    },
    {
      "cell_type": "code",
      "metadata": {
        "id": "87X48-eFGPj-"
      },
      "source": [
        "(x_train, y_train), (x_test, y_test) = tf.keras.datasets.mnist.load_data()"
      ],
      "execution_count": 8,
      "outputs": []
    },
    {
      "cell_type": "code",
      "metadata": {
        "id": "FuuNAyfAGcJy"
      },
      "source": [
        "x_train = x_train.reshape(x_train.shape[0], x_train.shape[1] * x_train.shape[2])\n",
        "x_test = x_test.reshape(x_test.shape[0], x_test.shape[1] * x_test.shape[2])"
      ],
      "execution_count": 10,
      "outputs": []
    },
    {
      "cell_type": "code",
      "metadata": {
        "colab": {
          "base_uri": "https://localhost:8080/"
        },
        "id": "7TygLWK6Gmou",
        "outputId": "7e447672-ab9e-49ab-d17f-343e917c35ee"
      },
      "source": [
        "x_train.shape, x_test.shape"
      ],
      "execution_count": 11,
      "outputs": [
        {
          "output_type": "execute_result",
          "data": {
            "text/plain": [
              "((60000, 784), (10000, 784))"
            ]
          },
          "metadata": {
            "tags": []
          },
          "execution_count": 11
        }
      ]
    },
    {
      "cell_type": "code",
      "metadata": {
        "id": "ODYzmTiyHyZB"
      },
      "source": [
        "x_train = x_train /255.\n",
        "x_test = x_test / 255."
      ],
      "execution_count": 25,
      "outputs": []
    },
    {
      "cell_type": "code",
      "metadata": {
        "id": "x8W0D8zZG4F0"
      },
      "source": [
        "y_train = tf.keras.utils.to_categorical(y_train)\n",
        "y_test = tf.keras.utils.to_categorical(y_test)"
      ],
      "execution_count": 12,
      "outputs": []
    },
    {
      "cell_type": "code",
      "metadata": {
        "colab": {
          "base_uri": "https://localhost:8080/"
        },
        "id": "-ne88z2QHFy0",
        "outputId": "f75e8e39-b0d4-4acc-9982-8ad7fb39fb55"
      },
      "source": [
        "y_train.shape, y_test.shape"
      ],
      "execution_count": 13,
      "outputs": [
        {
          "output_type": "execute_result",
          "data": {
            "text/plain": [
              "((60000, 10), (10000, 10))"
            ]
          },
          "metadata": {
            "tags": []
          },
          "execution_count": 13
        }
      ]
    },
    {
      "cell_type": "code",
      "metadata": {
        "id": "PcHhTSAmHLcD"
      },
      "source": [
        "decomp_model = Sequential()\n",
        "decomp_model.add(DenseDecomp(512, decomp_size=128, use_bias=True, activation='relu', input_shape=(x_train.shape[1],)))\n",
        "decomp_model.add(DenseDecomp(256, decomp_size=64, use_bias=True, activation='relu'))\n",
        "decomp_model.add(DenseDecomp(10, decomp_size=4, use_bias=True, activation='softmax'))"
      ],
      "execution_count": 37,
      "outputs": []
    },
    {
      "cell_type": "code",
      "metadata": {
        "colab": {
          "base_uri": "https://localhost:8080/"
        },
        "id": "PrbsbQpFIsgG",
        "outputId": "292be6fc-7250-46f6-f046-d22c2b4a79a0"
      },
      "source": [
        "decomp_model.summary()"
      ],
      "execution_count": 40,
      "outputs": [
        {
          "output_type": "stream",
          "text": [
            "Model: \"sequential_9\"\n",
            "_________________________________________________________________\n",
            "Layer (type)                 Output Shape              Param #   \n",
            "=================================================================\n",
            "dense_decomp_24 (DenseDecomp (None, 512)               166400    \n",
            "_________________________________________________________________\n",
            "dense_decomp_25 (DenseDecomp (None, 256)               49408     \n",
            "_________________________________________________________________\n",
            "dense_decomp_26 (DenseDecomp (None, 10)                1074      \n",
            "=================================================================\n",
            "Total params: 216,882\n",
            "Trainable params: 216,882\n",
            "Non-trainable params: 0\n",
            "_________________________________________________________________\n"
          ],
          "name": "stdout"
        }
      ]
    },
    {
      "cell_type": "code",
      "metadata": {
        "id": "xM0iNSHIHTol"
      },
      "source": [
        "decomp_model.compile(optimizer=tf.optimizers.Adam(learning_rate=0.01), loss=tf.losses.CategoricalCrossentropy(), metrics=['accuracy'])"
      ],
      "execution_count": 38,
      "outputs": []
    },
    {
      "cell_type": "code",
      "metadata": {
        "colab": {
          "base_uri": "https://localhost:8080/"
        },
        "id": "CJPJ6MN3HYQq",
        "outputId": "34be0765-981d-465c-d212-5f2392c176a9"
      },
      "source": [
        "history = decomp_model.fit(\n",
        "    x=x_train,\n",
        "    y=y_train, \n",
        "    validation_data=(x_test, y_test), \n",
        "    epochs=5, \n",
        "    batch_size=128\n",
        ")"
      ],
      "execution_count": 39,
      "outputs": [
        {
          "output_type": "stream",
          "text": [
            "Epoch 1/5\n",
            "469/469 [==============================] - 4s 5ms/step - loss: 1.0478 - accuracy: 0.7016 - val_loss: 0.2407 - val_accuracy: 0.9349\n",
            "Epoch 2/5\n",
            "469/469 [==============================] - 2s 5ms/step - loss: 0.2647 - accuracy: 0.9278 - val_loss: 0.2485 - val_accuracy: 0.9369\n",
            "Epoch 3/5\n",
            "469/469 [==============================] - 2s 4ms/step - loss: 0.2068 - accuracy: 0.9460 - val_loss: 0.2100 - val_accuracy: 0.9466\n",
            "Epoch 4/5\n",
            "469/469 [==============================] - 2s 5ms/step - loss: 0.1777 - accuracy: 0.9535 - val_loss: 0.2598 - val_accuracy: 0.9389\n",
            "Epoch 5/5\n",
            "469/469 [==============================] - 2s 5ms/step - loss: 0.1896 - accuracy: 0.9514 - val_loss: 0.2420 - val_accuracy: 0.9443\n"
          ],
          "name": "stdout"
        }
      ]
    },
    {
      "cell_type": "code",
      "metadata": {
        "id": "g2W1TEf-I9dH"
      },
      "source": [
        "model = Sequential()\n",
        "model.add(Dense(512, use_bias=True, activation='relu', input_shape=(x_train.shape[1],)))\n",
        "model.add(Dense(256, use_bias=True, activation='relu'))\n",
        "model.add(Dense(10, use_bias=True, activation='softmax'))"
      ],
      "execution_count": 42,
      "outputs": []
    },
    {
      "cell_type": "code",
      "metadata": {
        "id": "X2l5goSNJTMp"
      },
      "source": [
        "model.compile(optimizer=tf.optimizers.Adam(learning_rate=0.01), loss=tf.losses.CategoricalCrossentropy(), metrics=['accuracy'])"
      ],
      "execution_count": 43,
      "outputs": []
    },
    {
      "cell_type": "code",
      "metadata": {
        "colab": {
          "base_uri": "https://localhost:8080/"
        },
        "id": "uYWUAa1QJVv4",
        "outputId": "f828c078-0c35-4bb0-bb9d-78c125784f5e"
      },
      "source": [
        "history = model.fit(\n",
        "    x=x_train,\n",
        "    y=y_train, \n",
        "    validation_data=(x_test, y_test), \n",
        "    epochs=5, \n",
        "    batch_size=128\n",
        ")"
      ],
      "execution_count": 44,
      "outputs": [
        {
          "output_type": "stream",
          "text": [
            "Epoch 1/5\n",
            "469/469 [==============================] - 2s 3ms/step - loss: 0.4284 - accuracy: 0.8763 - val_loss: 0.1404 - val_accuracy: 0.9575\n",
            "Epoch 2/5\n",
            "469/469 [==============================] - 1s 3ms/step - loss: 0.1166 - accuracy: 0.9667 - val_loss: 0.1379 - val_accuracy: 0.9624\n",
            "Epoch 3/5\n",
            "469/469 [==============================] - 1s 3ms/step - loss: 0.0984 - accuracy: 0.9707 - val_loss: 0.1823 - val_accuracy: 0.9493\n",
            "Epoch 4/5\n",
            "469/469 [==============================] - 1s 3ms/step - loss: 0.0964 - accuracy: 0.9733 - val_loss: 0.1123 - val_accuracy: 0.9739\n",
            "Epoch 5/5\n",
            "469/469 [==============================] - 1s 3ms/step - loss: 0.0840 - accuracy: 0.9764 - val_loss: 0.1218 - val_accuracy: 0.9709\n"
          ],
          "name": "stdout"
        }
      ]
    },
    {
      "cell_type": "code",
      "metadata": {
        "colab": {
          "base_uri": "https://localhost:8080/"
        },
        "id": "SEFjgoHBJZzh",
        "outputId": "2f57c342-0b66-4891-f107-5a2bc8234eb1"
      },
      "source": [
        "model.summary()"
      ],
      "execution_count": 45,
      "outputs": [
        {
          "output_type": "stream",
          "text": [
            "Model: \"sequential_10\"\n",
            "_________________________________________________________________\n",
            "Layer (type)                 Output Shape              Param #   \n",
            "=================================================================\n",
            "dense (Dense)                (None, 512)               401920    \n",
            "_________________________________________________________________\n",
            "dense_1 (Dense)              (None, 256)               131328    \n",
            "_________________________________________________________________\n",
            "dense_2 (Dense)              (None, 10)                2570      \n",
            "=================================================================\n",
            "Total params: 535,818\n",
            "Trainable params: 535,818\n",
            "Non-trainable params: 0\n",
            "_________________________________________________________________\n"
          ],
          "name": "stdout"
        }
      ]
    }
  ]
}