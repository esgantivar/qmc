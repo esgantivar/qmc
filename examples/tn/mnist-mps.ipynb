{
  "nbformat": 4,
  "nbformat_minor": 0,
  "metadata": {
    "colab": {
      "name": "MPS MNIST.ipynb",
      "provenance": []
    },
    "kernelspec": {
      "name": "python3",
      "display_name": "Python 3"
    },
    "language_info": {
      "name": "python"
    },
    "accelerator": "GPU"
  },
  "cells": [
    {
      "cell_type": "markdown",
      "metadata": {
        "id": "fFUR9zJykZ_Z"
      },
      "source": [
        "<a href=\"https://colab.research.google.com/github/esgantivar/qmc/blob/torch/examples/tn/mnist-mps.ipynb\" target=\"_parent\"><img src=\"https://colab.research.google.com/assets/colab-badge.svg\" alt=\"Open In Colab\"/></a>"
      ]
    },
    {
      "cell_type": "code",
      "metadata": {
        "id": "xJdF-kGdiAsp"
      },
      "source": [
        "!pip install tensornetwork -q"
      ],
      "execution_count": 1,
      "outputs": []
    },
    {
      "cell_type": "code",
      "metadata": {
        "colab": {
          "base_uri": "https://localhost:8080/"
        },
        "id": "D7wHIzfNhfUR",
        "outputId": "c6788adf-b30c-4684-cd36-6c304fd1ff03"
      },
      "source": [
        "# Install qmc if running in Google Colab\n",
        "try:\n",
        "    import google.colab\n",
        "    IN_COLAB = True\n",
        "except:\n",
        "    IN_COLAB = False\n",
        "\n",
        "if IN_COLAB:\n",
        "    !pip install git+https://github.com/esgantivar/qmc.git@torch -q\n",
        "else:\n",
        "    import sys\n",
        "    sys.path.insert(0, '../../')"
      ],
      "execution_count": 2,
      "outputs": [
        {
          "output_type": "stream",
          "text": [
            "  Building wheel for qmc (setup.py) ... \u001b[?25l\u001b[?25hdone\n"
          ],
          "name": "stdout"
        }
      ]
    },
    {
      "cell_type": "code",
      "metadata": {
        "id": "DQU1IjN5h89U"
      },
      "source": [
        "import numpy as np\n",
        "import tensorflow as tf\n",
        "import tensornetwork as tn\n",
        "from tensorflow.keras.models import Sequential"
      ],
      "execution_count": 3,
      "outputs": []
    },
    {
      "cell_type": "code",
      "metadata": {
        "id": "Ym7bbpjxiEhF"
      },
      "source": [
        "tn.set_default_backend('tensorflow')"
      ],
      "execution_count": 4,
      "outputs": []
    },
    {
      "cell_type": "code",
      "metadata": {
        "id": "8yvuL4nOiYpM"
      },
      "source": [
        "from qmc.tn.layers import MPSLayer"
      ],
      "execution_count": 5,
      "outputs": []
    },
    {
      "cell_type": "code",
      "metadata": {
        "id": "bHuY2wFhiTfg"
      },
      "source": [
        "batch_size = 128\n",
        "num_classes = 10\n",
        "epochs = 20\n",
        "d_bond = 16 # for MPS\n",
        "d_phys = 2"
      ],
      "execution_count": 6,
      "outputs": []
    },
    {
      "cell_type": "code",
      "metadata": {
        "id": "G4gWyFT-iMbJ"
      },
      "source": [
        "def preprocess_images(x):\n",
        "  n_data, dim0, dim1 = tuple(x.shape)\n",
        "  n_sites = dim0 * dim1\n",
        "  x = x.reshape((n_data, n_sites)) / 255\n",
        "  sin = tf.sin((np.pi/2) * x)\n",
        "  cos = tf.cos((np.pi/2) * x)\n",
        "  return tf.stack([sin, cos],axis=-1)"
      ],
      "execution_count": 7,
      "outputs": []
    },
    {
      "cell_type": "code",
      "metadata": {
        "id": "HN-kfttXiO7o"
      },
      "source": [
        "(x_train, y_train), (x_test, y_test) = tf.keras.datasets.mnist.load_data()\n",
        "# convert class vectors to binary class matrices\n",
        "y_train = tf.keras.utils.to_categorical(y_train, num_classes)\n",
        "y_test = tf.keras.utils.to_categorical(y_test, num_classes)\n",
        "# convert images to supported format\n",
        "x_train = preprocess_images(x_train)\n",
        "x_test = preprocess_images(x_test)"
      ],
      "execution_count": 8,
      "outputs": []
    },
    {
      "cell_type": "code",
      "metadata": {
        "id": "bWNQT6rAidGI"
      },
      "source": [
        "model = Sequential()\n",
        "model.add(MPSLayer(n_sites=28 ** 2, d_bond=d_bond, d_phys=d_phys, n_output=num_classes))"
      ],
      "execution_count": 9,
      "outputs": []
    },
    {
      "cell_type": "code",
      "metadata": {
        "id": "nwNsPnxZi4ar"
      },
      "source": [
        "model.compile(loss=tf.keras.losses.CategoricalCrossentropy(),\n",
        "              optimizer=tf.keras.optimizers.Adam(learning_rate=0.005),\n",
        "              metrics=['accuracy'])"
      ],
      "execution_count": 10,
      "outputs": []
    },
    {
      "cell_type": "code",
      "metadata": {
        "colab": {
          "base_uri": "https://localhost:8080/"
        },
        "id": "LjH1d3Uyi8WL",
        "outputId": "847a1c72-4716-43b4-e662-0d5a964d11a9"
      },
      "source": [
        "model.fit(x_train, y_train,\n",
        "          batch_size=batch_size,\n",
        "          epochs=epochs,\n",
        "          verbose=1,\n",
        "          validation_data=(x_test, y_test))"
      ],
      "execution_count": 11,
      "outputs": [
        {
          "output_type": "stream",
          "text": [
            "Epoch 1/20\n",
            "469/469 [==============================] - 10s 7ms/step - loss: 0.7404 - accuracy: 0.7475 - val_loss: 0.2435 - val_accuracy: 0.9358\n",
            "Epoch 2/20\n",
            "469/469 [==============================] - 2s 5ms/step - loss: 0.2256 - accuracy: 0.9334 - val_loss: 0.2095 - val_accuracy: 0.9383\n",
            "Epoch 3/20\n",
            "469/469 [==============================] - 2s 5ms/step - loss: 0.1866 - accuracy: 0.9451 - val_loss: 0.1764 - val_accuracy: 0.9498\n",
            "Epoch 4/20\n",
            "469/469 [==============================] - 2s 5ms/step - loss: 0.1666 - accuracy: 0.9517 - val_loss: 0.1549 - val_accuracy: 0.9531\n",
            "Epoch 5/20\n",
            "469/469 [==============================] - 2s 5ms/step - loss: 0.1580 - accuracy: 0.9540 - val_loss: 0.2105 - val_accuracy: 0.9375\n",
            "Epoch 6/20\n",
            "469/469 [==============================] - 2s 5ms/step - loss: 0.1643 - accuracy: 0.9528 - val_loss: 0.1553 - val_accuracy: 0.9557\n",
            "Epoch 7/20\n",
            "469/469 [==============================] - 2s 5ms/step - loss: 0.1428 - accuracy: 0.9582 - val_loss: 0.1652 - val_accuracy: 0.9585\n",
            "Epoch 8/20\n",
            "469/469 [==============================] - 2s 5ms/step - loss: 0.1488 - accuracy: 0.9560 - val_loss: 0.1857 - val_accuracy: 0.9581\n",
            "Epoch 9/20\n",
            "469/469 [==============================] - 2s 5ms/step - loss: 0.2876 - accuracy: 0.9549 - val_loss: 0.2553 - val_accuracy: 0.9268\n",
            "Epoch 10/20\n",
            "469/469 [==============================] - 2s 5ms/step - loss: 0.1948 - accuracy: 0.9412 - val_loss: 0.1752 - val_accuracy: 0.9472\n",
            "Epoch 11/20\n",
            "469/469 [==============================] - 2s 5ms/step - loss: 0.1429 - accuracy: 0.9573 - val_loss: 0.1587 - val_accuracy: 0.9539\n",
            "Epoch 12/20\n",
            "469/469 [==============================] - 2s 5ms/step - loss: 0.1264 - accuracy: 0.9616 - val_loss: 0.1456 - val_accuracy: 0.9577\n",
            "Epoch 13/20\n",
            "469/469 [==============================] - 2s 5ms/step - loss: 0.1144 - accuracy: 0.9654 - val_loss: 0.1403 - val_accuracy: 0.9603\n",
            "Epoch 14/20\n",
            "469/469 [==============================] - 2s 5ms/step - loss: 0.1048 - accuracy: 0.9690 - val_loss: 0.1330 - val_accuracy: 0.9632\n",
            "Epoch 15/20\n",
            "469/469 [==============================] - 2s 5ms/step - loss: 0.0993 - accuracy: 0.9700 - val_loss: 0.1319 - val_accuracy: 0.9632\n",
            "Epoch 16/20\n",
            "469/469 [==============================] - 2s 5ms/step - loss: 0.1046 - accuracy: 0.9677 - val_loss: 0.1338 - val_accuracy: 0.9639\n",
            "Epoch 17/20\n",
            "469/469 [==============================] - 2s 5ms/step - loss: 0.0960 - accuracy: 0.9701 - val_loss: 0.1482 - val_accuracy: 0.9589\n",
            "Epoch 18/20\n",
            "469/469 [==============================] - 2s 5ms/step - loss: 0.0937 - accuracy: 0.9719 - val_loss: 0.1537 - val_accuracy: 0.9577\n",
            "Epoch 19/20\n",
            "469/469 [==============================] - 2s 5ms/step - loss: 0.0941 - accuracy: 0.9710 - val_loss: 0.1557 - val_accuracy: 0.9535\n",
            "Epoch 20/20\n",
            "469/469 [==============================] - 2s 5ms/step - loss: 0.1000 - accuracy: 0.9695 - val_loss: 0.1525 - val_accuracy: 0.9596\n"
          ],
          "name": "stdout"
        },
        {
          "output_type": "execute_result",
          "data": {
            "text/plain": [
              "<tensorflow.python.keras.callbacks.History at 0x7f6622038e90>"
            ]
          },
          "metadata": {
            "tags": []
          },
          "execution_count": 11
        }
      ]
    },
    {
      "cell_type": "markdown",
      "metadata": {
        "id": "icUIWNn9j_DO"
      },
      "source": [
        "MNIST d_bond=22"
      ]
    },
    {
      "cell_type": "code",
      "metadata": {
        "id": "rjlKwRudj78B"
      },
      "source": [
        "model = Sequential()\n",
        "model.add(MPSLayer(n_sites=28 ** 2, d_bond=22, d_phys=d_phys, n_output=num_classes))"
      ],
      "execution_count": 12,
      "outputs": []
    },
    {
      "cell_type": "code",
      "metadata": {
        "id": "g-bDdCQ0kFzX"
      },
      "source": [
        "model.compile(loss=tf.keras.losses.CategoricalCrossentropy(),\n",
        "              optimizer=tf.keras.optimizers.Adam(learning_rate=0.005),\n",
        "              metrics=['accuracy'])"
      ],
      "execution_count": 13,
      "outputs": []
    },
    {
      "cell_type": "code",
      "metadata": {
        "colab": {
          "base_uri": "https://localhost:8080/"
        },
        "id": "fOYB1M3kkHYC",
        "outputId": "620970b6-cc8b-47cc-8c0c-a997699e7492"
      },
      "source": [
        "model.fit(x_train, y_train,\n",
        "          batch_size=batch_size,\n",
        "          epochs=epochs,\n",
        "          verbose=1,\n",
        "          validation_data=(x_test, y_test))"
      ],
      "execution_count": 14,
      "outputs": [
        {
          "output_type": "stream",
          "text": [
            "Epoch 1/20\n",
            "469/469 [==============================] - 5s 6ms/step - loss: 0.6776 - accuracy: 0.7740 - val_loss: 0.2621 - val_accuracy: 0.9180\n",
            "Epoch 2/20\n",
            "469/469 [==============================] - 2s 5ms/step - loss: 0.2266 - accuracy: 0.9343 - val_loss: 0.1752 - val_accuracy: 0.9465\n",
            "Epoch 3/20\n",
            "469/469 [==============================] - 2s 5ms/step - loss: 0.2048 - accuracy: 0.9417 - val_loss: 0.2218 - val_accuracy: 0.9340\n",
            "Epoch 4/20\n",
            "469/469 [==============================] - 2s 5ms/step - loss: 0.1880 - accuracy: 0.9455 - val_loss: 0.2254 - val_accuracy: 0.9375\n",
            "Epoch 5/20\n",
            "469/469 [==============================] - 2s 5ms/step - loss: 0.1832 - accuracy: 0.9485 - val_loss: 0.1559 - val_accuracy: 0.9551\n",
            "Epoch 6/20\n",
            "469/469 [==============================] - 2s 5ms/step - loss: 0.1542 - accuracy: 0.9548 - val_loss: 0.1761 - val_accuracy: 0.9459\n",
            "Epoch 7/20\n",
            "469/469 [==============================] - 2s 5ms/step - loss: 0.1585 - accuracy: 0.9527 - val_loss: 0.1894 - val_accuracy: 0.9520\n",
            "Epoch 8/20\n",
            "469/469 [==============================] - 2s 5ms/step - loss: 0.1694 - accuracy: 0.9514 - val_loss: 0.1948 - val_accuracy: 0.9521\n",
            "Epoch 9/20\n",
            "469/469 [==============================] - 2s 5ms/step - loss: 0.1307 - accuracy: 0.9606 - val_loss: 0.1945 - val_accuracy: 0.9508\n",
            "Epoch 10/20\n",
            "469/469 [==============================] - 2s 5ms/step - loss: 0.1640 - accuracy: 0.9541 - val_loss: 0.2050 - val_accuracy: 0.9587\n",
            "Epoch 11/20\n",
            "469/469 [==============================] - 2s 5ms/step - loss: 0.1597 - accuracy: 0.9543 - val_loss: 0.1805 - val_accuracy: 0.9551\n",
            "Epoch 12/20\n",
            "469/469 [==============================] - 2s 5ms/step - loss: 0.1358 - accuracy: 0.9610 - val_loss: 0.1837 - val_accuracy: 0.9601\n",
            "Epoch 13/20\n",
            "469/469 [==============================] - 2s 5ms/step - loss: 0.1244 - accuracy: 0.9645 - val_loss: 0.4294 - val_accuracy: 0.9364\n",
            "Epoch 14/20\n",
            "469/469 [==============================] - 2s 5ms/step - loss: 9.0959 - accuracy: 0.8827 - val_loss: 0.1640 - val_accuracy: 0.9555\n",
            "Epoch 15/20\n",
            "469/469 [==============================] - 2s 5ms/step - loss: 0.1483 - accuracy: 0.9562 - val_loss: 0.1523 - val_accuracy: 0.9564\n",
            "Epoch 16/20\n",
            "469/469 [==============================] - 2s 5ms/step - loss: 0.1214 - accuracy: 0.9632 - val_loss: 0.1478 - val_accuracy: 0.9567\n",
            "Epoch 17/20\n",
            "469/469 [==============================] - 2s 5ms/step - loss: 0.1125 - accuracy: 0.9667 - val_loss: 0.1388 - val_accuracy: 0.9599\n",
            "Epoch 18/20\n",
            "469/469 [==============================] - 2s 5ms/step - loss: 0.1073 - accuracy: 0.9677 - val_loss: 0.1971 - val_accuracy: 0.9578\n",
            "Epoch 19/20\n",
            "469/469 [==============================] - 2s 5ms/step - loss: 0.1055 - accuracy: 0.9685 - val_loss: 0.1472 - val_accuracy: 0.9584\n",
            "Epoch 20/20\n",
            "469/469 [==============================] - 2s 5ms/step - loss: 0.1004 - accuracy: 0.9695 - val_loss: 0.1583 - val_accuracy: 0.9611\n"
          ],
          "name": "stdout"
        },
        {
          "output_type": "execute_result",
          "data": {
            "text/plain": [
              "<tensorflow.python.keras.callbacks.History at 0x7f65d6430710>"
            ]
          },
          "metadata": {
            "tags": []
          },
          "execution_count": 14
        }
      ]
    }
  ]
}