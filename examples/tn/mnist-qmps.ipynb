{
 "nbformat": 4,
 "nbformat_minor": 0,
 "metadata": {
  "colab": {
   "name": "QMPS.ipynb",
   "provenance": []
  },
  "kernelspec": {
   "name": "python3",
   "display_name": "Python 3"
  },
  "language_info": {
   "name": "python"
  },
  "accelerator": "GPU"
 },
 "cells": [
  {
   "cell_type": "markdown",
   "source": [
    "<a href=\"https://colab.research.google.com/github/esgantivar/qmc/blob/torch/examples/tn/mnist-qmps.ipynb\" target=\"_parent\"><img src=\"https://colab.research.google.com/assets/colab-badge.svg\" alt=\"Open In Colab\"/></a>"
   ],
   "metadata": {
    "collapsed": false
   }
  },
  {
   "cell_type": "code",
   "metadata": {
    "colab": {
     "base_uri": "https://localhost:8080/"
    },
    "id": "BevIaOUGyWTh",
    "outputId": "0cd65f89-bc81-49ba-b3d6-90c7b46d750a"
   },
   "source": [
    "!pip install tensornetwork -q\n",
    "!pip install git+https://github.com/esgantivar/qmc.git@torch -q"
   ],
   "execution_count": 2,
   "outputs": [
    {
     "output_type": "stream",
     "text": [
      "  Building wheel for qmc (setup.py) ... \u001B[?25l\u001B[?25hdone\n"
     ],
     "name": "stdout"
    }
   ]
  },
  {
   "cell_type": "code",
   "metadata": {
    "id": "bpv75wnsyZTV"
   },
   "source": [
    "import numpy as np\n",
    "import tensorflow as tf\n",
    "import tensornetwork as tn"
   ],
   "execution_count": 3,
   "outputs": []
  },
  {
   "cell_type": "code",
   "metadata": {
    "id": "3lb4CW0GzGv5"
   },
   "source": [
    "tn.set_default_backend('tensorflow')"
   ],
   "execution_count": 10,
   "outputs": []
  },
  {
   "cell_type": "code",
   "metadata": {
    "id": "o246eRttyjU_"
   },
   "source": [
    "from qmc.tf.tn.models import DMKDClassifierTNSGD"
   ],
   "execution_count": 4,
   "outputs": []
  },
  {
   "cell_type": "code",
   "metadata": {
    "id": "7_O7A4fFyk_-"
   },
   "source": [
    "def preprocess_images(x):\n",
    "  n_data, dim0, dim1 = tuple(x.shape)\n",
    "  n_sites = dim0 * dim1\n",
    "  x = x.reshape((n_data, n_sites)) / 255\n",
    "  sin = tf.sin((np.pi/2) * x)\n",
    "  cos = tf.cos((np.pi/2) * x)\n",
    "  return tf.stack([sin, cos],axis=-1)"
   ],
   "execution_count": 5,
   "outputs": []
  },
  {
   "cell_type": "code",
   "metadata": {
    "id": "-CT_1THWymve"
   },
   "source": [
    "(x_train, y_train), (x_test, y_test) = tf.keras.datasets.mnist.load_data()\n",
    "# convert class vectors to binary class matrices\n",
    "y_train = tf.keras.utils.to_categorical(y_train, 10)\n",
    "y_test = tf.keras.utils.to_categorical(y_test, 10)\n",
    "# convert images to supported format\n",
    "x_train = preprocess_images(x_train)\n",
    "x_test = preprocess_images(x_test)"
   ],
   "execution_count": 11,
   "outputs": []
  },
  {
   "cell_type": "code",
   "metadata": {
    "id": "Ee_JhO-2ypXf"
   },
   "source": [
    "model = DMKDClassifierTNSGD(n_sites=28 ** 2, d_bond=8, num_classes=10, d_phys=2)"
   ],
   "execution_count": 13,
   "outputs": []
  },
  {
   "cell_type": "code",
   "metadata": {
    "id": "Pjp9GdnSy8uF"
   },
   "source": [
    "model.compile(loss=tf.keras.losses.CategoricalCrossentropy(),\n",
    "              optimizer=tf.keras.optimizers.Adam(learning_rate=0.005),\n",
    "              metrics=['accuracy'])"
   ],
   "execution_count": 14,
   "outputs": []
  },
  {
   "cell_type": "code",
   "metadata": {
    "colab": {
     "base_uri": "https://localhost:8080/"
    },
    "id": "EPLSFI-ny_1Q",
    "outputId": "39a24331-1f29-424b-82e0-b4714df11ead"
   },
   "source": [
    "model.fit(x_train, y_train,\n",
    "          batch_size=128,\n",
    "          epochs=10,\n",
    "          verbose=1,\n",
    "          validation_data=(x_test, y_test))"
   ],
   "execution_count": 15,
   "outputs": [
    {
     "output_type": "stream",
     "text": [
      "Epoch 1/10\n",
      "469/469 [==============================] - 30s 24ms/step - loss: 10.6170 - accuracy: 0.6741 - val_loss: 0.3144 - val_accuracy: 0.9098\n",
      "Epoch 2/10\n",
      "469/469 [==============================] - 7s 14ms/step - loss: 0.2678 - accuracy: 0.9215 - val_loss: 0.2111 - val_accuracy: 0.9377\n",
      "Epoch 3/10\n",
      "469/469 [==============================] - 7s 14ms/step - loss: 0.2135 - accuracy: 0.9361 - val_loss: 0.2320 - val_accuracy: 0.9355\n",
      "Epoch 4/10\n",
      "469/469 [==============================] - 6s 14ms/step - loss: 0.1886 - accuracy: 0.9433 - val_loss: 0.2218 - val_accuracy: 0.9361\n",
      "Epoch 5/10\n",
      "469/469 [==============================] - 7s 14ms/step - loss: 0.1934 - accuracy: 0.9420 - val_loss: 0.2533 - val_accuracy: 0.9310\n",
      "Epoch 6/10\n",
      "469/469 [==============================] - 7s 14ms/step - loss: 0.2132 - accuracy: 0.9404 - val_loss: 0.2608 - val_accuracy: 0.9368\n",
      "Epoch 7/10\n",
      "469/469 [==============================] - 7s 14ms/step - loss: 0.2386 - accuracy: 0.9367 - val_loss: 0.2792 - val_accuracy: 0.9305\n",
      "Epoch 8/10\n",
      "469/469 [==============================] - 6s 14ms/step - loss: 0.2113 - accuracy: 0.9438 - val_loss: 0.2417 - val_accuracy: 0.9388\n",
      "Epoch 9/10\n",
      "469/469 [==============================] - 7s 14ms/step - loss: 0.1677 - accuracy: 0.9515 - val_loss: 0.1951 - val_accuracy: 0.9504\n",
      "Epoch 10/10\n",
      "469/469 [==============================] - 7s 14ms/step - loss: 0.1483 - accuracy: 0.9559 - val_loss: 0.2250 - val_accuracy: 0.9435\n"
     ],
     "name": "stdout"
    },
    {
     "output_type": "execute_result",
     "data": {
      "text/plain": [
       "<tensorflow.python.keras.callbacks.History at 0x7f9940235f90>"
      ]
     },
     "metadata": {
      "tags": []
     },
     "execution_count": 15
    }
   ]
  }
 ]
}