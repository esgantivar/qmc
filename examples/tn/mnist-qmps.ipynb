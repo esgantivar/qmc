{
  "nbformat": 4,
  "nbformat_minor": 0,
  "metadata": {
    "colab": {
      "name": "QMPS.ipynb",
      "provenance": []
    },
    "kernelspec": {
      "name": "python3",
      "display_name": "Python 3"
    },
    "language_info": {
      "name": "python"
    },
    "accelerator": "GPU"
  },
  "cells": [
    {
      "cell_type": "markdown",
      "metadata": {
        "id": "nsrclCGIleTl"
      },
      "source": [
        "<a href=\"https://colab.research.google.com/github/esgantivar/qmc/blob/torch/examples/tn/mnist-qmps.ipynb\" target=\"_parent\"><img src=\"https://colab.research.google.com/assets/colab-badge.svg\" alt=\"Open In Colab\"/></a>"
      ]
    },
    {
      "cell_type": "code",
      "metadata": {
        "id": "dybAG4nqlcwD"
      },
      "source": [
        "!pip install tensornetwork -q"
      ],
      "execution_count": 1,
      "outputs": []
    },
    {
      "cell_type": "code",
      "metadata": {
        "colab": {
          "base_uri": "https://localhost:8080/"
        },
        "id": "AWOQs3yelkwF",
        "outputId": "f8414459-ff86-4ab5-f4f9-f7e0bb0abeb7"
      },
      "source": [
        "# Install qmc if running in Google Colab\n",
        "try:\n",
        "    import google.colab\n",
        "    IN_COLAB = True\n",
        "except:\n",
        "    IN_COLAB = False\n",
        "\n",
        "if IN_COLAB:\n",
        "    !pip install git+https://github.com/esgantivar/qmc.git@torch -q\n",
        "else:\n",
        "    import sys\n",
        "    sys.path.insert(0, '../../')"
      ],
      "execution_count": 2,
      "outputs": [
        {
          "output_type": "stream",
          "text": [
            "  Building wheel for qmc (setup.py) ... \u001b[?25l\u001b[?25hdone\n"
          ],
          "name": "stdout"
        }
      ]
    },
    {
      "cell_type": "code",
      "metadata": {
        "id": "Rxp0ng-1lqbF"
      },
      "source": [
        "import numpy as np\n",
        "import tensorflow as tf\n",
        "import tensornetwork as tn"
      ],
      "execution_count": 3,
      "outputs": []
    },
    {
      "cell_type": "code",
      "metadata": {
        "id": "wH1PkRjBlrtt"
      },
      "source": [
        "tn.set_default_backend('tensorflow')"
      ],
      "execution_count": 4,
      "outputs": []
    },
    {
      "cell_type": "code",
      "metadata": {
        "id": "M1Wla3uEluHN"
      },
      "source": [
        "from qmc.tf.tn.models import DMKDClassifierTNSGD"
      ],
      "execution_count": 5,
      "outputs": []
    },
    {
      "cell_type": "code",
      "metadata": {
        "id": "u8dNQSxelz1J"
      },
      "source": [
        "def preprocess_images(x):\n",
        "  n_data, dim0, dim1 = tuple(x.shape)\n",
        "  n_sites = dim0 * dim1\n",
        "  x = x.reshape((n_data, n_sites)) / 255\n",
        "  sin = tf.sin((np.pi/2) * x)\n",
        "  cos = tf.cos((np.pi/2) * x)\n",
        "  return tf.stack([sin, cos],axis=-1)"
      ],
      "execution_count": 6,
      "outputs": []
    },
    {
      "cell_type": "code",
      "metadata": {
        "id": "7GXiHsPvl3gL"
      },
      "source": [
        "(x_train, y_train), (x_test, y_test) = tf.keras.datasets.mnist.load_data()\n",
        "# convert class vectors to binary class matrices\n",
        "y_train = tf.keras.utils.to_categorical(y_train, 10)\n",
        "y_test = tf.keras.utils.to_categorical(y_test, 10)\n",
        "# convert images to supported format\n",
        "x_train = preprocess_images(x_train)\n",
        "x_test = preprocess_images(x_test)"
      ],
      "execution_count": 7,
      "outputs": []
    },
    {
      "cell_type": "code",
      "metadata": {
        "id": "I6eh-AwVnx0v"
      },
      "source": [
        "class LayerTN(tf.keras.layers.Layer):\n",
        "  def __init__(self, n_sites, d_bond, d_phys, **kwargs):\n",
        "    super(LayerTN, self).__init__(**kwargs)\n",
        "    self.single_rank = n_sites // 2\n",
        "    self.n_sites = n_sites\n",
        "    self.d_bond = d_bond\n",
        "    self.d_phys = d_phys\n",
        "    mps = [\n",
        "        self._boundary(self.d_phys, self.d_bond),\n",
        "        self._middle(self.d_phys, self.single_rank - 1, self.d_bond),\n",
        "        self._boundary(self.d_phys, self.d_bond),\n",
        "        self._middle(self.d_phys, self.single_rank - 1, self.d_bond),\n",
        "    ]\n",
        "\n",
        "    self.mps_var = [tf.Variable(node, name=f'mps{i}', trainable=True, dtype=tf.float32) for (i, node) in\n",
        "                    enumerate(mps)]\n",
        "\n",
        "  def call(self, inputs, **kwargs):\n",
        "    def f(input_vec, mps_var):\n",
        "      l_1n = tn.Node(mps_var[0])\n",
        "      ln = tn.Node(mps_var[1])\n",
        "      r_1n = tn.Node(mps_var[2])\n",
        "      rn = tn.Node(mps_var[3])\n",
        "\n",
        "      il_1 = tn.Node(input_vec[0])\n",
        "      il = tn.Node(input_vec[1:self.single_rank])\n",
        "      ir = tn.Node(input_vec[self.single_rank:self.n_sites - 1])\n",
        "      ir_1 = tn.Node(input_vec[self.n_sites - 1])\n",
        "\n",
        "      # Create TN\n",
        "      il_1[0] ^ l_1n[1]\n",
        "      l_1n[0] ^ ln[1]\n",
        "      ln[0] ^ il[0]\n",
        "      ln[3] ^ il[1]\n",
        "\n",
        "      ir_1[0] ^ r_1n[1]\n",
        "      r_1n[0] ^ rn[1]\n",
        "      rn[0] ^ ir[0]\n",
        "      rn[3] ^ ir[1]\n",
        "\n",
        "      ln[2] ^ rn[2]\n",
        "\n",
        "      # Contract\n",
        "      ans = tn.contractors.greedy(tn.reachable(ln))\n",
        "      return ans.tensor\n",
        "\n",
        "    result = tf.vectorized_map(\n",
        "        lambda vec: f(vec, self.mps_var),\n",
        "        inputs\n",
        "    )\n",
        "    return result\n",
        "\n",
        "  @staticmethod\n",
        "  def _middle(d_phys, n_sites, bond):\n",
        "    return np.random.normal(0, 1e-2, size=(n_sites, bond, bond, d_phys))\n",
        "\n",
        "  @staticmethod\n",
        "  def _boundary(d_phys, bond):\n",
        "    return np.random.normal(0, 1e-2, size=(bond, d_phys))"
      ],
      "execution_count": 18,
      "outputs": []
    },
    {
      "cell_type": "code",
      "metadata": {
        "id": "lP_49Ps1nu7y"
      },
      "source": [
        "class ModelTN(tf.keras.Model):\n",
        "    def __init__(self, num_classes=10, n_sites=28 ** 2, d_bond=8, d_phys=2, **kwargs):\n",
        "        super(ModelTN, self).__init__()\n",
        "        self.d_bond = d_bond\n",
        "        self.n_sites = n_sites\n",
        "        self.d_phys = d_phys\n",
        "        self.num_classes = num_classes\n",
        "        self.qmd = []\n",
        "        for _ in range(num_classes):\n",
        "            self.qmd.append(LayerTN(n_sites=n_sites, d_bond=d_bond, d_phys=self.d_phys))\n",
        "\n",
        "    def call(self, inputs, **kwargs):\n",
        "        probs = []\n",
        "        for i in range(self.num_classes):\n",
        "            probs.append(self.qmd[i](inputs))\n",
        "        posteriors = tf.stack(probs, axis=-1)\n",
        "        return tf.nn.softmax(posteriors)\n"
      ],
      "execution_count": 19,
      "outputs": []
    },
    {
      "cell_type": "markdown",
      "metadata": {
        "id": "cDugyhhwpVJ-"
      },
      "source": [
        "d_bond = 16"
      ]
    },
    {
      "cell_type": "code",
      "metadata": {
        "id": "fYdxlNe_l66C"
      },
      "source": [
        "model = ModelTN(n_sites=28 ** 2, d_bond=16, num_classes=10, d_phys=2)"
      ],
      "execution_count": 20,
      "outputs": []
    },
    {
      "cell_type": "code",
      "metadata": {
        "id": "lQOePfmymNaD"
      },
      "source": [
        "model.compile(loss=tf.keras.losses.CategoricalCrossentropy(),\n",
        "              optimizer=tf.keras.optimizers.Adam(learning_rate=0.005),\n",
        "              metrics=['accuracy'])"
      ],
      "execution_count": 21,
      "outputs": []
    },
    {
      "cell_type": "code",
      "metadata": {
        "colab": {
          "base_uri": "https://localhost:8080/"
        },
        "id": "UMml37qvoZ6i",
        "outputId": "94501969-8983-41ab-e556-996ff5fe0dd1"
      },
      "source": [
        "model.fit(x_train, y_train,\n",
        "          batch_size=128,\n",
        "          epochs=20,\n",
        "          verbose=1,\n",
        "          validation_data=(x_test, y_test))"
      ],
      "execution_count": 22,
      "outputs": [
        {
          "output_type": "stream",
          "text": [
            "Epoch 1/20\n",
            "469/469 [==============================] - 27s 21ms/step - loss: 0.7648 - accuracy: 0.7529 - val_loss: 0.3361 - val_accuracy: 0.9012\n",
            "Epoch 2/20\n",
            "469/469 [==============================] - 6s 12ms/step - loss: 14.1605 - accuracy: 0.9118 - val_loss: 52.5084 - val_accuracy: 0.5419\n",
            "Epoch 3/20\n",
            "469/469 [==============================] - 6s 12ms/step - loss: 8.4545 - accuracy: 0.8227 - val_loss: 1.0280 - val_accuracy: 0.9209\n",
            "Epoch 4/20\n",
            "469/469 [==============================] - 6s 12ms/step - loss: 0.7571 - accuracy: 0.9285 - val_loss: 0.5389 - val_accuracy: 0.9206\n",
            "Epoch 5/20\n",
            "469/469 [==============================] - 6s 12ms/step - loss: 0.4156 - accuracy: 0.9359 - val_loss: 0.3180 - val_accuracy: 0.9358\n",
            "Epoch 6/20\n",
            "469/469 [==============================] - 6s 12ms/step - loss: 0.2633 - accuracy: 0.9413 - val_loss: 0.2437 - val_accuracy: 0.9432\n",
            "Epoch 7/20\n",
            "469/469 [==============================] - 6s 12ms/step - loss: 0.2016 - accuracy: 0.9462 - val_loss: 0.2134 - val_accuracy: 0.9459\n",
            "Epoch 8/20\n",
            "469/469 [==============================] - 6s 12ms/step - loss: 0.1779 - accuracy: 0.9499 - val_loss: 0.1909 - val_accuracy: 0.9488\n",
            "Epoch 9/20\n",
            "469/469 [==============================] - 6s 12ms/step - loss: 0.1607 - accuracy: 0.9552 - val_loss: 0.1885 - val_accuracy: 0.9465\n",
            "Epoch 10/20\n",
            "469/469 [==============================] - 6s 12ms/step - loss: 0.1561 - accuracy: 0.9546 - val_loss: 0.1839 - val_accuracy: 0.9491\n",
            "Epoch 11/20\n",
            "469/469 [==============================] - 6s 12ms/step - loss: 0.1534 - accuracy: 0.9552 - val_loss: 0.1943 - val_accuracy: 0.9475\n",
            "Epoch 12/20\n",
            "469/469 [==============================] - 6s 12ms/step - loss: 0.1475 - accuracy: 0.9571 - val_loss: 0.1837 - val_accuracy: 0.9486\n",
            "Epoch 13/20\n",
            "469/469 [==============================] - 6s 12ms/step - loss: 0.1408 - accuracy: 0.9582 - val_loss: 0.1768 - val_accuracy: 0.9504\n",
            "Epoch 14/20\n",
            "469/469 [==============================] - 6s 12ms/step - loss: 0.1422 - accuracy: 0.9574 - val_loss: 0.1795 - val_accuracy: 0.9506\n",
            "Epoch 15/20\n",
            "469/469 [==============================] - 6s 12ms/step - loss: 0.1424 - accuracy: 0.9575 - val_loss: 0.2054 - val_accuracy: 0.9526\n",
            "Epoch 16/20\n",
            "469/469 [==============================] - 6s 12ms/step - loss: 20.4310 - accuracy: 0.8468 - val_loss: 0.1994 - val_accuracy: 0.9434\n",
            "Epoch 17/20\n",
            "469/469 [==============================] - 6s 12ms/step - loss: 0.1531 - accuracy: 0.9558 - val_loss: 0.1842 - val_accuracy: 0.9456\n",
            "Epoch 18/20\n",
            "469/469 [==============================] - 6s 12ms/step - loss: 0.1375 - accuracy: 0.9587 - val_loss: 0.1817 - val_accuracy: 0.9486\n",
            "Epoch 19/20\n",
            "469/469 [==============================] - 6s 12ms/step - loss: 0.1303 - accuracy: 0.9611 - val_loss: 0.1567 - val_accuracy: 0.9575\n",
            "Epoch 20/20\n",
            "469/469 [==============================] - 6s 12ms/step - loss: 0.1270 - accuracy: 0.9625 - val_loss: 0.1672 - val_accuracy: 0.9532\n"
          ],
          "name": "stdout"
        },
        {
          "output_type": "execute_result",
          "data": {
            "text/plain": [
              "<tensorflow.python.keras.callbacks.History at 0x7fe7b00d35d0>"
            ]
          },
          "metadata": {
            "tags": []
          },
          "execution_count": 22
        }
      ]
    },
    {
      "cell_type": "markdown",
      "metadata": {
        "id": "e8bqde4IpBL3"
      },
      "source": [
        "dbond=22"
      ]
    },
    {
      "cell_type": "code",
      "metadata": {
        "id": "8wQ7b_r8pAx2"
      },
      "source": [
        "model = ModelTN(n_sites=28 ** 2, d_bond=22, num_classes=10, d_phys=2)"
      ],
      "execution_count": 23,
      "outputs": []
    },
    {
      "cell_type": "code",
      "metadata": {
        "id": "WVaUAbNXpFAI"
      },
      "source": [
        "model.compile(loss=tf.keras.losses.CategoricalCrossentropy(),\n",
        "              optimizer=tf.keras.optimizers.Adam(learning_rate=0.005),\n",
        "              metrics=['accuracy'])"
      ],
      "execution_count": 24,
      "outputs": []
    },
    {
      "cell_type": "code",
      "metadata": {
        "colab": {
          "base_uri": "https://localhost:8080/"
        },
        "id": "r2jUN68BpG9E",
        "outputId": "a2e3d5e7-2680-4e59-9308-e08d7a7c2c63"
      },
      "source": [
        "model.fit(x_train, y_train,\n",
        "          batch_size=128,\n",
        "          epochs=20,\n",
        "          verbose=1,\n",
        "          validation_data=(x_test, y_test))"
      ],
      "execution_count": 25,
      "outputs": [
        {
          "output_type": "stream",
          "text": [
            "Epoch 1/20\n",
            "469/469 [==============================] - 19s 21ms/step - loss: 7.0194 - accuracy: 0.6359 - val_loss: 0.2772 - val_accuracy: 0.9150\n",
            "Epoch 2/20\n",
            "469/469 [==============================] - 6s 13ms/step - loss: 0.2798 - accuracy: 0.9172 - val_loss: 0.2294 - val_accuracy: 0.9317\n",
            "Epoch 3/20\n",
            "469/469 [==============================] - 6s 13ms/step - loss: 0.2168 - accuracy: 0.9362 - val_loss: 0.2079 - val_accuracy: 0.9395\n",
            "Epoch 4/20\n",
            "469/469 [==============================] - 6s 13ms/step - loss: 0.1869 - accuracy: 0.9435 - val_loss: 0.1844 - val_accuracy: 0.9469\n",
            "Epoch 5/20\n",
            "469/469 [==============================] - 6s 13ms/step - loss: 0.1628 - accuracy: 0.9520 - val_loss: 0.1931 - val_accuracy: 0.9418\n",
            "Epoch 6/20\n",
            "469/469 [==============================] - 6s 13ms/step - loss: 0.1590 - accuracy: 0.9535 - val_loss: 0.1977 - val_accuracy: 0.9428\n",
            "Epoch 7/20\n",
            "469/469 [==============================] - 6s 13ms/step - loss: 0.1468 - accuracy: 0.9561 - val_loss: 0.1763 - val_accuracy: 0.9503\n",
            "Epoch 8/20\n",
            "469/469 [==============================] - 6s 13ms/step - loss: 0.1397 - accuracy: 0.9582 - val_loss: 0.1832 - val_accuracy: 0.9477\n",
            "Epoch 9/20\n",
            "469/469 [==============================] - 6s 13ms/step - loss: 2206.1052 - accuracy: 0.8595 - val_loss: 12.2721 - val_accuracy: 0.9131\n",
            "Epoch 10/20\n",
            "469/469 [==============================] - 6s 13ms/step - loss: 8.3232 - accuracy: 0.9209 - val_loss: 6.4011 - val_accuracy: 0.9268\n",
            "Epoch 11/20\n",
            "469/469 [==============================] - 6s 13ms/step - loss: 3.7858 - accuracy: 0.9359 - val_loss: 4.2883 - val_accuracy: 0.9367\n",
            "Epoch 12/20\n",
            "469/469 [==============================] - 6s 13ms/step - loss: 2.2092 - accuracy: 0.9470 - val_loss: 3.6540 - val_accuracy: 0.9421\n",
            "Epoch 13/20\n",
            "469/469 [==============================] - 6s 13ms/step - loss: 1.6995 - accuracy: 0.9501 - val_loss: 2.9323 - val_accuracy: 0.9429\n",
            "Epoch 14/20\n",
            "469/469 [==============================] - 6s 12ms/step - loss: 1.4153 - accuracy: 0.9537 - val_loss: 2.8478 - val_accuracy: 0.9263\n",
            "Epoch 15/20\n",
            "469/469 [==============================] - 6s 12ms/step - loss: 1.2051 - accuracy: 0.9548 - val_loss: 2.1211 - val_accuracy: 0.9514\n",
            "Epoch 16/20\n",
            "469/469 [==============================] - 6s 12ms/step - loss: 0.9871 - accuracy: 0.9567 - val_loss: 2.0559 - val_accuracy: 0.9367\n",
            "Epoch 17/20\n",
            "469/469 [==============================] - 6s 12ms/step - loss: 0.9660 - accuracy: 0.9571 - val_loss: 1.7609 - val_accuracy: 0.9484\n",
            "Epoch 18/20\n",
            "469/469 [==============================] - 6s 12ms/step - loss: 0.7530 - accuracy: 0.9597 - val_loss: 1.5555 - val_accuracy: 0.9337\n",
            "Epoch 19/20\n",
            "469/469 [==============================] - 6s 12ms/step - loss: 0.6812 - accuracy: 0.9587 - val_loss: 1.2886 - val_accuracy: 0.9469\n",
            "Epoch 20/20\n",
            "469/469 [==============================] - 6s 13ms/step - loss: 0.5756 - accuracy: 0.9593 - val_loss: 1.2064 - val_accuracy: 0.9473\n"
          ],
          "name": "stdout"
        },
        {
          "output_type": "execute_result",
          "data": {
            "text/plain": [
              "<tensorflow.python.keras.callbacks.History at 0x7fe6d5339050>"
            ]
          },
          "metadata": {
            "tags": []
          },
          "execution_count": 25
        }
      ]
    }
  ]
}