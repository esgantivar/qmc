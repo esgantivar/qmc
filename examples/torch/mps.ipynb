{
  "nbformat": 4,
  "nbformat_minor": 0,
  "metadata": {
    "orig_nbformat": 2,
    "kernelspec": {
      "name": "python391jvsc74a57bd034fd1decc1a931af43cc0c05fabd64b4c8a56fc0949c2b3508ba9f0afa488d8e",
      "display_name": "Python 3.9.1 64-bit ('venv')"
    },
    "colab": {
      "name": "mps.ipynb",
      "provenance": []
    },
    "language_info": {
      "name": "python",
      "version": "3.9.1-final"
    },
    "accelerator": "GPU"
  },
  "cells": [
    {
      "cell_type": "markdown",
      "metadata": {
        "id": "JqsTnJT7_oVT"
      },
      "source": [
        "<a href=\"https://colab.research.google.com/github/esgantivar/qmc/blob/torch/examples/torch/mps.ipynb\" target=\"_parent\"><img src=\"https://colab.research.google.com/assets/colab-badge.svg\" alt=\"Open In Colab\"/></a>"
      ]
    },
    {
      "cell_type": "code",
      "metadata": {
        "id": "VfAcm9jN_oVa",
        "colab": {
          "base_uri": "https://localhost:8080/"
        },
        "outputId": "ed267ab7-1286-4d3e-d949-e247b6b1ee41"
      },
      "source": [
        "# Install qmc if running in Google Colab\n",
        "try:\n",
        "    import google.colab\n",
        "    IN_COLAB = True\n",
        "except:\n",
        "    IN_COLAB = False\n",
        "\n",
        "if IN_COLAB:\n",
        "    !pip install git+https://github.com/esgantivar/qmc.git@torch -q\n",
        "else:\n",
        "    import sys\n",
        "    sys.path.insert(0, '../../')"
      ],
      "execution_count": 1,
      "outputs": [
        {
          "output_type": "stream",
          "text": [
            "  Building wheel for qmc (setup.py) ... \u001b[?25l\u001b[?25hdone\n"
          ],
          "name": "stdout"
        }
      ]
    },
    {
      "cell_type": "code",
      "metadata": {
        "id": "H8wYQbU6_oVb"
      },
      "source": [
        "import time\n",
        "import torch\n",
        "from qmc.torch.mps.torchmps import MPS\n",
        "from torchvision import transforms, datasets"
      ],
      "execution_count": 2,
      "outputs": []
    },
    {
      "cell_type": "code",
      "metadata": {
        "id": "_HQtJNU_DZW9"
      },
      "source": [
        "from matplotlib import pyplot as plt\n",
        "%matplotlib inline"
      ],
      "execution_count": 13,
      "outputs": []
    },
    {
      "cell_type": "code",
      "metadata": {
        "id": "7YXFf0-z_oVc"
      },
      "source": [
        "# Miscellaneous initialization\n",
        "torch.manual_seed(0)\n",
        "start_time = time.time()\n",
        "\n",
        "# MPS parameters\n",
        "bond_dim = 16\n",
        "adaptive_mode = False\n",
        "periodic_bc = False\n",
        "\n",
        "# Training parameters\n",
        "num_train = 2000\n",
        "num_test = 1000\n",
        "batch_size = 100\n",
        "num_epochs = 20\n",
        "learn_rate = 1e-4\n",
        "l2_reg = 0.0"
      ],
      "execution_count": 3,
      "outputs": []
    },
    {
      "cell_type": "code",
      "metadata": {
        "id": "RGgqZmBK_oVc"
      },
      "source": [
        "# Initialize the MPS module\n",
        "mps = MPS(\n",
        "    input_dim=28 ** 2,\n",
        "    output_dim=10,\n",
        "    bond_dim=bond_dim,\n",
        "    adaptive_mode=adaptive_mode,\n",
        "    periodic_bc=periodic_bc,\n",
        ")"
      ],
      "execution_count": 4,
      "outputs": []
    },
    {
      "cell_type": "code",
      "metadata": {
        "id": "pUMadQgH_oVd"
      },
      "source": [
        "# Set our loss function and optimizer\n",
        "loss_fun = torch.nn.CrossEntropyLoss()\n",
        "optimizer = torch.optim.Adam(mps.parameters(), lr=learn_rate, weight_decay=l2_reg)"
      ],
      "execution_count": 5,
      "outputs": []
    },
    {
      "cell_type": "code",
      "metadata": {
        "id": "dTJtq17E_oVd"
      },
      "source": [
        "# Get the training and test sets\n",
        "transform = transforms.ToTensor()\n",
        "train_set = datasets.MNIST(\"./mnist\", download=True, transform=transform)\n",
        "test_set = datasets.MNIST(\"./mnist\", download=True, transform=transform, train=False)"
      ],
      "execution_count": 6,
      "outputs": []
    },
    {
      "cell_type": "code",
      "metadata": {
        "id": "U0Id9JC4CWE6"
      },
      "source": [
        "loss_list = []\n",
        "accuracy_list = []"
      ],
      "execution_count": 7,
      "outputs": []
    },
    {
      "cell_type": "code",
      "metadata": {
        "id": "KybXmjMQ_oVe"
      },
      "source": [
        "# Put MNIST data into dataloaders\n",
        "samplers = {\n",
        "    \"train\": torch.utils.data.SubsetRandomSampler(range(num_train)),\n",
        "    \"test\": torch.utils.data.SubsetRandomSampler(range(num_test)),\n",
        "}"
      ],
      "execution_count": 8,
      "outputs": []
    },
    {
      "cell_type": "code",
      "metadata": {
        "id": "iZRtBXW2_oVe"
      },
      "source": [
        "loaders = {\n",
        "    name: torch.utils.data.DataLoader(\n",
        "        dataset, batch_size=batch_size, sampler=samplers[name], drop_last=True\n",
        "    )\n",
        "    for (name, dataset) in [(\"train\", train_set), (\"test\", test_set)]\n",
        "}"
      ],
      "execution_count": 9,
      "outputs": []
    },
    {
      "cell_type": "code",
      "metadata": {
        "id": "hfrTF7Df_oVe"
      },
      "source": [
        "num_batches = {\n",
        "    name: total_num // batch_size\n",
        "    for (name, total_num) in [(\"train\", num_train), (\"test\", num_test)]\n",
        "}"
      ],
      "execution_count": 10,
      "outputs": []
    },
    {
      "cell_type": "code",
      "metadata": {
        "id": "HtuNdEat_oVf",
        "colab": {
          "base_uri": "https://localhost:8080/"
        },
        "outputId": "699af72c-7b04-4af1-be5c-6e36dbeea512"
      },
      "source": [
        "for epoch_num in range(1, num_epochs + 1):\n",
        "    running_loss = 0.0\n",
        "    running_acc = 0.0\n",
        "\n",
        "    for inputs, labels in loaders[\"train\"]:\n",
        "        inputs, labels = inputs.view([batch_size, 28 ** 2]), labels.data\n",
        "\n",
        "        # Call our MPS to get logit scores and predictions\n",
        "        scores = mps(inputs)\n",
        "        _, preds = torch.max(scores, 1)\n",
        "\n",
        "        # Compute the loss and accuracy, add them to the running totals\n",
        "        loss = loss_fun(scores, labels)\n",
        "        with torch.no_grad():\n",
        "            accuracy = torch.sum(preds == labels).item() / batch_size\n",
        "            running_loss += loss\n",
        "            running_acc += accuracy\n",
        "\n",
        "        # Backpropagate and update parameters\n",
        "        optimizer.zero_grad()\n",
        "        loss.backward()\n",
        "        optimizer.step()\n",
        "    loss_list.append(running_loss / num_batches['train'])\n",
        "    accuracy_list.append(running_acc / num_batches['train'])\n",
        "    print(f\"### Epoch {epoch_num} ###\")\n",
        "    print(f\"Average loss:           {running_loss / num_batches['train']:.4f}\")\n",
        "    print(f\"Average train accuracy: {running_acc / num_batches['train']:.4f}\")\n",
        "\n",
        "    # Evaluate accuracy of MPS classifier on the test set\n",
        "    with torch.no_grad():\n",
        "        running_acc = 0.0\n",
        "\n",
        "        for inputs, labels in loaders[\"test\"]:\n",
        "            inputs, labels = inputs.view([batch_size, 28 ** 2]), labels.data\n",
        "\n",
        "            # Call our MPS to get logit scores and predictions\n",
        "            scores = mps(inputs)\n",
        "            _, preds = torch.max(scores, 1)\n",
        "            running_acc += torch.sum(preds == labels).item() / batch_size"
      ],
      "execution_count": 11,
      "outputs": [
        {
          "output_type": "stream",
          "text": [
            "### Epoch 1 ###\n",
            "Average loss:           2.2790\n",
            "Average train accuracy: 0.1110\n",
            "### Epoch 2 ###\n",
            "Average loss:           1.9856\n",
            "Average train accuracy: 0.2145\n",
            "### Epoch 3 ###\n",
            "Average loss:           1.5608\n",
            "Average train accuracy: 0.4875\n",
            "### Epoch 4 ###\n",
            "Average loss:           0.9344\n",
            "Average train accuracy: 0.7090\n",
            "### Epoch 5 ###\n",
            "Average loss:           0.6036\n",
            "Average train accuracy: 0.8090\n",
            "### Epoch 6 ###\n",
            "Average loss:           0.4879\n",
            "Average train accuracy: 0.8485\n",
            "### Epoch 7 ###\n",
            "Average loss:           0.4145\n",
            "Average train accuracy: 0.8765\n",
            "### Epoch 8 ###\n",
            "Average loss:           0.3514\n",
            "Average train accuracy: 0.8955\n",
            "### Epoch 9 ###\n",
            "Average loss:           0.2806\n",
            "Average train accuracy: 0.9080\n",
            "### Epoch 10 ###\n",
            "Average loss:           0.2546\n",
            "Average train accuracy: 0.9160\n",
            "### Epoch 11 ###\n",
            "Average loss:           0.2372\n",
            "Average train accuracy: 0.9250\n",
            "### Epoch 12 ###\n",
            "Average loss:           0.2030\n",
            "Average train accuracy: 0.9330\n",
            "### Epoch 13 ###\n",
            "Average loss:           0.1882\n",
            "Average train accuracy: 0.9385\n",
            "### Epoch 14 ###\n",
            "Average loss:           0.1632\n",
            "Average train accuracy: 0.9450\n",
            "### Epoch 15 ###\n",
            "Average loss:           0.1870\n",
            "Average train accuracy: 0.9385\n",
            "### Epoch 16 ###\n",
            "Average loss:           0.1525\n",
            "Average train accuracy: 0.9440\n",
            "### Epoch 17 ###\n",
            "Average loss:           0.1351\n",
            "Average train accuracy: 0.9560\n",
            "### Epoch 18 ###\n",
            "Average loss:           0.1269\n",
            "Average train accuracy: 0.9515\n",
            "### Epoch 19 ###\n",
            "Average loss:           0.1132\n",
            "Average train accuracy: 0.9615\n",
            "### Epoch 20 ###\n",
            "Average loss:           0.1261\n",
            "Average train accuracy: 0.9555\n"
          ],
          "name": "stdout"
        }
      ]
    },
    {
      "cell_type": "code",
      "metadata": {
        "colab": {
          "base_uri": "https://localhost:8080/",
          "height": 312
        },
        "id": "rG9GceYRDsRW",
        "outputId": "7b3e1791-6cc4-489c-fa82-82346968de41"
      },
      "source": [
        "plt.plot(accuracy_list)\n",
        "plt.title(f'MPS Training for MNIST with bond: {bond_dim}')\n",
        "plt.xlabel('Training Iterations')\n",
        "plt.ylabel('Accuracy')"
      ],
      "execution_count": 15,
      "outputs": [
        {
          "output_type": "execute_result",
          "data": {
            "text/plain": [
              "Text(0, 0.5, 'Accuracy')"
            ]
          },
          "metadata": {
            "tags": []
          },
          "execution_count": 15
        },
        {
          "output_type": "display_data",
          "data": {
            "image/png": "[encoded data removed]",
            "text/plain": [
              "<Figure size 432x288 with 1 Axes>"
            ]
          },
          "metadata": {
            "tags": [],
            "needs_background": "light"
          }
        }
      ]
    },
    {
      "cell_type": "code",
      "metadata": {
        "id": "qBgaUA6q_oVf",
        "colab": {
          "base_uri": "https://localhost:8080/",
          "height": 312
        },
        "outputId": "1407cf30-d8c1-4f5d-ce61-50d2d64f0df1"
      },
      "source": [
        "plt.plot(loss_list)\n",
        "plt.title(f'MPS Training for MNIST with bond: {bond_dim}')\n",
        "plt.xlabel('Training Iterations')\n",
        "plt.ylabel('Cross Entropy Loss')"
      ],
      "execution_count": 14,
      "outputs": [
        {
          "output_type": "execute_result",
          "data": {
            "text/plain": [
              "Text(0, 0.5, 'Cross Entropy Loss')"
            ]
          },
          "metadata": {
            "tags": []
          },
          "execution_count": 14
        },
        {
          "output_type": "display_data",
          "data": {
            "image/png": "[encoded data removed]",
            "text/plain": [
              "<Figure size 432x288 with 1 Axes>"
            ]
          },
          "metadata": {
            "tags": [],
            "needs_background": "light"
          }
        }
      ]
    }
  ]
}